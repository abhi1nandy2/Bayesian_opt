{
  "nbformat": 4,
  "nbformat_minor": 0,
  "metadata": {
    "accelerator": "GPU",
    "colab": {
      "name": "sampling_comparison.ipynb",
      "provenance": [],
      "collapsed_sections": [],
      "toc_visible": true,
      "include_colab_link": true
    },
    "kernelspec": {
      "display_name": "Python 3",
      "language": "python",
      "name": "python3"
    },
    "language_info": {
      "codemirror_mode": {
        "name": "ipython",
        "version": 3
      },
      "file_extension": ".py",
      "mimetype": "text/x-python",
      "name": "python",
      "nbconvert_exporter": "python",
      "pygments_lexer": "ipython3",
      "version": "3.8.5"
    }
  },
  "cells": [
    {
      "cell_type": "markdown",
      "metadata": {
        "id": "view-in-github",
        "colab_type": "text"
      },
      "source": [
        "<a href=\"https://colab.research.google.com/github/abhi1nandy2/Bayesian_opt/blob/master/sampling_comparison.ipynb\" target=\"_parent\"><img src=\"https://colab.research.google.com/assets/colab-badge.svg\" alt=\"Open In Colab\"/></a>"
      ]
    },
    {
      "cell_type": "code",
      "metadata": {
        "id": "pS39p6sT45_V"
      },
      "source": [
        "%matplotlib inline"
      ],
      "execution_count": null,
      "outputs": []
    },
    {
      "cell_type": "code",
      "metadata": {
        "colab": {
          "base_uri": "https://localhost:8080/"
        },
        "id": "uIeJez6D5b7d",
        "outputId": "83e801d6-f2f6-41cc-d9e2-f96541a76704"
      },
      "source": [
        "!pip install scikit-optimize"
      ],
      "execution_count": null,
      "outputs": [
        {
          "output_type": "stream",
          "text": [
            "Collecting scikit-optimize\n",
            "\u001b[?25l  Downloading https://files.pythonhosted.org/packages/8b/03/be33e89f55866065a02e515c5b319304a801a9f1027a9b311a9b1d1f8dc7/scikit_optimize-0.8.1-py2.py3-none-any.whl (101kB)\n",
            "\r\u001b[K     |███▎                            | 10kB 20.7MB/s eta 0:00:01\r\u001b[K     |██████▌                         | 20kB 18.3MB/s eta 0:00:01\r\u001b[K     |█████████▊                      | 30kB 14.8MB/s eta 0:00:01\r\u001b[K     |█████████████                   | 40kB 13.5MB/s eta 0:00:01\r\u001b[K     |████████████████▏               | 51kB 11.1MB/s eta 0:00:01\r\u001b[K     |███████████████████▍            | 61kB 11.8MB/s eta 0:00:01\r\u001b[K     |██████████████████████▊         | 71kB 11.5MB/s eta 0:00:01\r\u001b[K     |██████████████████████████      | 81kB 12.6MB/s eta 0:00:01\r\u001b[K     |█████████████████████████████▏  | 92kB 11.3MB/s eta 0:00:01\r\u001b[K     |████████████████████████████████| 102kB 6.6MB/s \n",
            "\u001b[?25hCollecting pyaml>=16.9\n",
            "  Downloading https://files.pythonhosted.org/packages/15/c4/1310a054d33abc318426a956e7d6df0df76a6ddfa9c66f6310274fb75d42/pyaml-20.4.0-py2.py3-none-any.whl\n",
            "Requirement already satisfied: scipy>=0.19.1 in /usr/local/lib/python3.6/dist-packages (from scikit-optimize) (1.4.1)\n",
            "Requirement already satisfied: scikit-learn>=0.20.0 in /usr/local/lib/python3.6/dist-packages (from scikit-optimize) (0.22.2.post1)\n",
            "Requirement already satisfied: joblib>=0.11 in /usr/local/lib/python3.6/dist-packages (from scikit-optimize) (0.17.0)\n",
            "Requirement already satisfied: numpy>=1.13.3 in /usr/local/lib/python3.6/dist-packages (from scikit-optimize) (1.18.5)\n",
            "Requirement already satisfied: PyYAML in /usr/local/lib/python3.6/dist-packages (from pyaml>=16.9->scikit-optimize) (3.13)\n",
            "Installing collected packages: pyaml, scikit-optimize\n",
            "Successfully installed pyaml-20.4.0 scikit-optimize-0.8.1\n"
          ],
          "name": "stdout"
        }
      ]
    },
    {
      "cell_type": "markdown",
      "metadata": {
        "id": "ZUFKkFdJ45_V"
      },
      "source": [
        "\n",
        "# Comparing initial point generation methods\n",
        "\n",
        "Holger Nahrstaedt 2020\n",
        "\n",
        ".. currentmodule:: skopt\n",
        "\n",
        "Bayesian optimization or sequential model-based optimization uses a surrogate\n",
        "model to model the expensive to evaluate function `func`. There are several\n",
        "choices for what kind of surrogate model to use. This notebook compares the\n",
        "performance of:\n",
        "\n",
        "* Halton sequence,\n",
        "* Hammersly sequence,\n",
        "* Sobol sequence and\n",
        "* Latin hypercube sampling\n",
        "\n",
        "as initial points. The purely random point generation is used as\n",
        "a baseline.\n"
      ]
    },
    {
      "cell_type": "code",
      "metadata": {
        "colab": {
          "base_uri": "https://localhost:8080/"
        },
        "id": "WRZe_L1q45_V",
        "outputId": "f6d59ecf-485a-446b-fafb-612c60a194f8"
      },
      "source": [
        "print(__doc__)\n",
        "import numpy as np\n",
        "np.random.seed(123)\n",
        "import matplotlib.pyplot as plt"
      ],
      "execution_count": null,
      "outputs": [
        {
          "output_type": "stream",
          "text": [
            "Automatically created module for IPython interactive environment\n"
          ],
          "name": "stdout"
        }
      ]
    },
    {
      "cell_type": "markdown",
      "metadata": {
        "id": "6gfvn2kI45_V"
      },
      "source": [
        "## Toy model\n",
        "\n",
        "We will use the :class:`benchmarks.hart6` function as toy model for the expensive function.\n",
        "In a real world application this function would be unknown and expensive\n",
        "to evaluate.\n",
        "\n"
      ]
    },
    {
      "cell_type": "code",
      "metadata": {
        "id": "HUzkAEDH45_V"
      },
      "source": [
        "from skopt.benchmarks import hart6 as hart6_\n",
        "# from skopt.benchmarks import hart3 as hart3_\n",
        "# redefined `hart6` to allow adding arbitrary \"noise\" dimensions\n",
        "def hart6(x, noise_level=0.):\n",
        "    return hart6_(x[:6]) + noise_level * np.random.randn()\n",
        "\n",
        "def hart3(x, noise_level=0.):\n",
        "    return hart6_(x[:3] + [0,0,0]) + noise_level * np.random.randn()\n",
        "\n",
        "# def hart3(x, noise_level=0.):\n",
        "#     return hart3_(x[:3]) + noise_level * np.random.randn()\n",
        "\n",
        "from skopt.benchmarks import branin as _branin\n",
        "\n",
        "def branin(x, noise_level=0.):\n",
        "    return _branin(x) + noise_level * np.random.randn()"
      ],
      "execution_count": null,
      "outputs": []
    },
    {
      "cell_type": "code",
      "metadata": {
        "id": "XgIBau3O45_V"
      },
      "source": [
        "from matplotlib.pyplot import cm\n",
        "import time\n",
        "from skopt import gp_minimize, forest_minimize, dummy_minimize\n",
        "\n",
        "def plot_convergence(result_list, true_minimum=None, yscale=None, title=\"Convergence plot\"):\n",
        "\n",
        "    ax = plt.gca()\n",
        "    ax.set_title(title)\n",
        "    ax.set_xlabel(\"Number of iterations\")\n",
        "    ax.set_ylabel(r\"Gap metric\")\n",
        "    ax.grid()\n",
        "    if yscale is not None:\n",
        "        ax.set_yscale(yscale)\n",
        "    colors = cm.hsv(np.linspace(0.25, 1.0, len(result_list)))\n",
        "\n",
        "    for results, color in zip(result_list, colors):\n",
        "        name, results = results\n",
        "        n_calls = len(results[0].x_iters)\n",
        "        iterations = range(1, n_calls + 1)\n",
        "        mins = [[np.min(r.func_vals[:i]) for i in iterations]\n",
        "                for r in results]\n",
        "        # ax.plot(iterations, (np.mean(mins, axis=0) - np.mean(mins, axis=0)[0])/(true_minimum - np.mean(mins, axis=0)[0]), c=color, label=name)\n",
        "        ax.errorbar(iterations, (np.mean(mins, axis=0) - np.mean(mins, axis=0)[0])/(true_minimum - np.mean(mins, axis=0)[0]),\n",
        "                    yerr=np.std((mins - np.mean(mins, axis=0)[0])/(true_minimum - np.mean(mins, axis=0)[0]), axis=0), c=color, label=name)\n",
        "        print(np.std((mins - np.mean(mins, axis=0)[0])/(true_minimum - np.mean(mins, axis=0)[0]), axis=0))    \n",
        "    # if true_minimum:\n",
        "    #     ax.axhline(true_minimum, linestyle=\"--\",\n",
        "    #                color=\"r\", lw=1,\n",
        "    #                label=\"True minimum\")\n",
        "    ax.legend(loc=\"best\")\n",
        "    return ax\n",
        "\n",
        "\n",
        "def run(minimizer, acq_func,\n",
        "        n_initial_points=25, n_repeats=1):\n",
        "    return [minimizer(func, bounds, n_initial_points=n_initial_points,\n",
        "                      acq_func = acq_func,\n",
        "                      n_calls=n_calls, random_state=n)\n",
        "            for n in range(n_repeats)]\n",
        "\n",
        "\n",
        "def run_measure(acq_func, n_initial_points=25):\n",
        "    start = time.time()\n",
        "    # n_repeats must set to a much higher value to obtain meaningful results.\n",
        "    n_repeats = 1\n",
        "    res = run(gp_minimize, acq_func,\n",
        "              n_initial_points=n_initial_points, n_repeats=n_repeats)\n",
        "    duration = time.time() - start\n",
        "    # print(\"%s %s: %.2f s\" % (initial_point_generator,\n",
        "    #                          str(init_point_gen_kwargs),\n",
        "    #                          duration))\n",
        "    return res"
      ],
      "execution_count": null,
      "outputs": []
    },
    {
      "cell_type": "markdown",
      "metadata": {
        "id": "iFRmTNeh45_W"
      },
      "source": [
        "## Objective\n",
        "\n",
        "The objective of this example is to find one of these minima in as\n",
        "few iterations as possible. One iteration is defined as one call\n",
        "to the :class:`benchmarks.hart6` function.\n",
        "\n",
        "We will evaluate each model several times using a different seed for the\n",
        "random number generator. Then compare the average performance of these\n",
        "models. This makes the comparison more robust against models that get\n",
        "\"lucky\".\n",
        "\n"
      ]
    },
    {
      "cell_type": "markdown",
      "metadata": {
        "id": "xmIJgALXC-6z"
      },
      "source": [
        "# New Section"
      ]
    },
    {
      "cell_type": "code",
      "metadata": {
        "id": "KznyYGxI45_W"
      },
      "source": [
        "#@title Test Function\n",
        "example = \"hart3\" #@param [\"branin\", \"hart3\", \"hart6\"]\n",
        "from functools import partial\n",
        "# example = \"branin\"\n",
        "\n",
        "if example == \"hart6\":\n",
        "    func = partial(hart6, noise_level=0.1)\n",
        "    bounds = [(0., 1.), ] * 6\n",
        "    true_minimum = -3.32237\n",
        "    n_calls = 100\n",
        "    n_initial_points = 25\n",
        "    yscale = None\n",
        "    title = \"Convergence plot - hart6\"\n",
        "if example == \"hart3\":\n",
        "    func = partial(hart3, noise_level=0.1)\n",
        "    bounds = [(0., 1.), ] * 3\n",
        "    true_minimum = -3.32237\n",
        "    n_calls = 100\n",
        "    n_initial_points = 25\n",
        "    yscale = None\n",
        "    title = \"Convergence plot - hart3\"\n",
        "else:\n",
        "    func = partial(branin, noise_level=2.0)\n",
        "    bounds = [(-5.0, 10.0), (0.0, 15.0)]\n",
        "    true_minimum = 0.397887\n",
        "    n_calls = 100\n",
        "    n_initial_points = 25\n",
        "    yscale=\"log\"\n",
        "    title = \"Convergence plot - branin\""
      ],
      "execution_count": null,
      "outputs": []
    },
    {
      "cell_type": "code",
      "metadata": {
        "colab": {
          "background_save": true
        },
        "id": "WjpLumrq45_W"
      },
      "source": [
        "from skopt.utils import cook_initial_point_generator\n",
        "\n",
        "# Random search\n",
        "# dummy_res = run_measure(\"random\", n_initial_points)\n",
        "# lhs = cook_initial_point_generator(\n",
        "#     \"lhs\", lhs_type=\"classic\", criterion=None)\n",
        "# lhs_res = run_measure(lhs, n_initial_points)\n",
        "# lhs2 = cook_initial_point_generator(\"lhs\", criterion=\"maximin\")\n",
        "# lhs2_res = run_measure(lhs2, n_initial_points)\n",
        "# sobol = cook_initial_point_generator(\"sobol\", randomize=False,\n",
        "                                    #  min_skip=1, max_skip=100)\n",
        "sobol_res = run_measure(\"LCB\", n_initial_points)\n",
        "halton_res = run_measure(\"EI\", n_initial_points)\n",
        "hammersly_res = run_measure(\"PI\", n_initial_points)\n",
        "grid_res = run_measure(\"gp_hedge\", n_initial_points)"
      ],
      "execution_count": null,
      "outputs": []
    },
    {
      "cell_type": "markdown",
      "metadata": {
        "id": "l7rTq_Ts45_W"
      },
      "source": [
        "Note that this can take a few minutes.\n",
        "\n"
      ]
    },
    {
      "cell_type": "code",
      "metadata": {
        "colab": {
          "base_uri": "https://localhost:8080/",
          "height": 631
        },
        "id": "6_XOLsEK45_W",
        "outputId": "435cb8b5-3daa-420e-939a-d1d6e41dd85e"
      },
      "source": [
        "plot = plot_convergence([(\"UCB\", sobol_res),\n",
        "                        (\"EI\", halton_res),\n",
        "                        (\"PI\", hammersly_res),\n",
        "                        (\"GP-HEDGE\", grid_res)],\n",
        "                        true_minimum=true_minimum,\n",
        "                        yscale=yscale,\n",
        "                        title=title)\n",
        "plt.show()"
      ],
      "execution_count": null,
      "outputs": [
        {
          "output_type": "stream",
          "text": [
            "[0. 0. 0. 0. 0. 0. 0. 0. 0. 0. 0. 0. 0. 0. 0. 0. 0. 0. 0. 0. 0. 0. 0. 0.\n",
            " 0. 0. 0. 0. 0. 0. 0. 0. 0. 0. 0. 0. 0. 0. 0. 0. 0. 0. 0. 0. 0. 0. 0. 0.\n",
            " 0. 0. 0. 0. 0. 0. 0. 0. 0. 0. 0. 0. 0. 0. 0. 0. 0. 0. 0. 0. 0. 0. 0. 0.\n",
            " 0. 0. 0. 0. 0. 0. 0. 0. 0. 0. 0. 0. 0. 0. 0. 0. 0. 0. 0. 0. 0. 0. 0. 0.\n",
            " 0. 0. 0. 0.]\n",
            "[0. 0. 0. 0. 0. 0. 0. 0. 0. 0. 0. 0. 0. 0. 0. 0. 0. 0. 0. 0. 0. 0. 0. 0.\n",
            " 0. 0. 0. 0. 0. 0. 0. 0. 0. 0. 0. 0. 0. 0. 0. 0. 0. 0. 0. 0. 0. 0. 0. 0.\n",
            " 0. 0. 0. 0. 0. 0. 0. 0. 0. 0. 0. 0. 0. 0. 0. 0. 0. 0. 0. 0. 0. 0. 0. 0.\n",
            " 0. 0. 0. 0. 0. 0. 0. 0. 0. 0. 0. 0. 0. 0. 0. 0. 0. 0. 0. 0. 0. 0. 0. 0.\n",
            " 0. 0. 0. 0.]\n",
            "[0. 0. 0. 0. 0. 0. 0. 0. 0. 0. 0. 0. 0. 0. 0. 0. 0. 0. 0. 0. 0. 0. 0. 0.\n",
            " 0. 0. 0. 0. 0. 0. 0. 0. 0. 0. 0. 0. 0. 0. 0. 0. 0. 0. 0. 0. 0. 0. 0. 0.\n",
            " 0. 0. 0. 0. 0. 0. 0. 0. 0. 0. 0. 0. 0. 0. 0. 0. 0. 0. 0. 0. 0. 0. 0. 0.\n",
            " 0. 0. 0. 0. 0. 0. 0. 0. 0. 0. 0. 0. 0. 0. 0. 0. 0. 0. 0. 0. 0. 0. 0. 0.\n",
            " 0. 0. 0. 0.]\n",
            "[0. 0. 0. 0. 0. 0. 0. 0. 0. 0. 0. 0. 0. 0. 0. 0. 0. 0. 0. 0. 0. 0. 0. 0.\n",
            " 0. 0. 0. 0. 0. 0. 0. 0. 0. 0. 0. 0. 0. 0. 0. 0. 0. 0. 0. 0. 0. 0. 0. 0.\n",
            " 0. 0. 0. 0. 0. 0. 0. 0. 0. 0. 0. 0. 0. 0. 0. 0. 0. 0. 0. 0. 0. 0. 0. 0.\n",
            " 0. 0. 0. 0. 0. 0. 0. 0. 0. 0. 0. 0. 0. 0. 0. 0. 0. 0. 0. 0. 0. 0. 0. 0.\n",
            " 0. 0. 0. 0.]\n"
          ],
          "name": "stdout"
        },
        {
          "output_type": "display_data",
          "data": {
            "image/png": "[encoded data removed]",
            "text/plain": [
              "<Figure size 432x288 with 1 Axes>"
            ]
          },
          "metadata": {
            "tags": []
          }
        }
      ]
    },
    {
      "cell_type": "markdown",
      "metadata": {
        "id": "T94Zz0-S45_W"
      },
      "source": [
        "This plot shows the value of the minimum found (y axis) as a function\n",
        "of the number of iterations performed so far (x axis). The dashed red line\n",
        "indicates the true value of the minimum of the :class:`benchmarks.hart6`\n",
        "function.\n",
        "\n"
      ]
    },
    {
      "cell_type": "markdown",
      "metadata": {
        "id": "ZIgKhWdn45_W"
      },
      "source": [
        "Test with different n_random_starts values\n",
        "\n"
      ]
    },
    {
      "cell_type": "code",
      "metadata": {
        "id": "Ki4bna8c45_W"
      },
      "source": [
        "lhs2 = cook_initial_point_generator(\"lhs\", criterion=\"maximin\")\n",
        "lhs2_15_res = run_measure(lhs2, 12)\n",
        "lhs2_20_res = run_measure(lhs2, 14)\n",
        "lhs2_25_res = run_measure(lhs2, 16)"
      ],
      "execution_count": null,
      "outputs": []
    },
    {
      "cell_type": "markdown",
      "metadata": {
        "id": "C7vXXTAP45_W"
      },
      "source": [
        "n_random_starts = 10 produces the best results\n",
        "\n"
      ]
    },
    {
      "cell_type": "code",
      "metadata": {
        "id": "dV1URaqL45_W"
      },
      "source": [
        "plot = plot_convergence([(\"random - 10\", dummy_res),\n",
        "                        (\"lhs_maximin - 10\", lhs2_res),\n",
        "                        (\"lhs_maximin - 12\", lhs2_15_res),\n",
        "                        (\"lhs_maximin - 14\", lhs2_20_res),\n",
        "                        (\"lhs_maximin - 16\", lhs2_25_res)],\n",
        "                        true_minimum=true_minimum,\n",
        "                        yscale=yscale,\n",
        "                        title=title)\n",
        "\n",
        "plt.show()"
      ],
      "execution_count": null,
      "outputs": []
    }
  ]
}